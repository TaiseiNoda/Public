{
 "cells": [
  {
   "cell_type": "markdown",
   "metadata": {
    "slideshow": {
     "slide_type": "slide"
    }
   },
   "source": [
    "## Demand Estimation with PyBLP\n",
    "\n",
    "**Taisei Noda**\n",
    "2022/12/4"
   ]
  },
  {
   "cell_type": "code",
   "execution_count": 3,
   "metadata": {},
   "outputs": [
    {
     "name": "stdout",
     "output_type": "stream",
     "text": [
      "Collecting pyblp\n",
      "  Using cached pyblp-0.13.0-py3-none-any.whl (868 kB)\n",
      "Requirement already satisfied: patsy>=0.5.1 in c:\\users\\taise\\anaconda3\\lib\\site-packages (from pyblp) (0.5.2)\n",
      "Requirement already satisfied: scipy>=1.2.0 in c:\\users\\taise\\anaconda3\\lib\\site-packages (from pyblp) (1.7.3)\n",
      "Requirement already satisfied: sympy>=1.1.0 in c:\\users\\taise\\anaconda3\\lib\\site-packages (from pyblp) (1.10.1)\n",
      "Collecting pyhdfe>=0.1.0\n",
      "  Using cached pyhdfe-0.1.1-py3-none-any.whl (18 kB)\n",
      "Requirement already satisfied: numpy>=1.17.0 in c:\\users\\taise\\anaconda3\\lib\\site-packages (from pyblp) (1.21.5)\n",
      "Requirement already satisfied: six in c:\\users\\taise\\anaconda3\\lib\\site-packages (from patsy>=0.5.1->pyblp) (1.16.0)\n",
      "Requirement already satisfied: mpmath>=0.19 in c:\\users\\taise\\anaconda3\\lib\\site-packages (from sympy>=1.1.0->pyblp) (1.2.1)\n",
      "Installing collected packages: pyhdfe, pyblp\n",
      "Successfully installed pyblp-0.13.0 pyhdfe-0.1.1\n"
     ]
    }
   ],
   "source": [
    "!pip install pyblp"
   ]
  },
  {
   "cell_type": "code",
   "execution_count": 1,
   "metadata": {
    "scrolled": true,
    "slideshow": {
     "slide_type": "slide"
    }
   },
   "outputs": [],
   "source": [
    "#!pip install pyblp\n",
    "\n",
    "# To make jupyter slides, run the following commands on cmd:\n",
    "\n",
    "# jupyter nbconvert --to slides C:\\Users\\Taise\\directory\\MutualFundManager\\PyBLP_MutualFund.ipynb\n",
    "# jupyter nbconvert C:\\Users\\Taise\\directory\\MutualFundManager\\PyBLP_MutualFund.ipynb --to slides --post serve \n",
    "\n",
    "#jupyter nbconvert --to slides C:\\Users\\Taise\\Documents\\GitHub\\MutualFundManager\\PyBLP_MutualFund.ipynb\n",
    "#jupyter nbconvert C:\\Users\\Taise\\Documents\\GitHub\\MutualFundManager\\PyBLP_MutualFund.ipynb --to slides --post serve \n"
   ]
  },
  {
   "cell_type": "code",
   "execution_count": 4,
   "metadata": {
    "slideshow": {
     "slide_type": "slide"
    }
   },
   "outputs": [],
   "source": [
    "import pyblp\n",
    "import numpy as np\n",
    "import pandas as pd\n",
    "\n",
    "pyblp.options.digits = 4\n",
    "pyblp.options.verbose = False\n",
    "pyblp.__version__\n",
    "pd.set_option('display.float_format', lambda x: '%.4f' % x)"
   ]
  },
  {
   "cell_type": "markdown",
   "metadata": {
    "slideshow": {
     "slide_type": "slide"
    }
   },
   "source": [
    "### Part I. Walking Through [the Tutorials](https://pyblp.readthedocs.io/en/stable/) "
   ]
  },
  {
   "cell_type": "code",
   "execution_count": 5,
   "metadata": {
    "slideshow": {
     "slide_type": "slide"
    }
   },
   "outputs": [
    {
     "data": {
      "text/html": [
       "<div>\n",
       "<style scoped>\n",
       "    .dataframe tbody tr th:only-of-type {\n",
       "        vertical-align: middle;\n",
       "    }\n",
       "\n",
       "    .dataframe tbody tr th {\n",
       "        vertical-align: top;\n",
       "    }\n",
       "\n",
       "    .dataframe thead th {\n",
       "        text-align: right;\n",
       "    }\n",
       "</style>\n",
       "<table border=\"1\" class=\"dataframe\">\n",
       "  <thead>\n",
       "    <tr style=\"text-align: right;\">\n",
       "      <th></th>\n",
       "      <th>market_ids</th>\n",
       "      <th>city_ids</th>\n",
       "      <th>quarter</th>\n",
       "      <th>product_ids</th>\n",
       "      <th>firm_ids</th>\n",
       "      <th>brand_ids</th>\n",
       "      <th>shares</th>\n",
       "      <th>prices</th>\n",
       "      <th>sugar</th>\n",
       "      <th>mushy</th>\n",
       "      <th>...</th>\n",
       "      <th>demand_instruments10</th>\n",
       "      <th>demand_instruments11</th>\n",
       "      <th>demand_instruments12</th>\n",
       "      <th>demand_instruments13</th>\n",
       "      <th>demand_instruments14</th>\n",
       "      <th>demand_instruments15</th>\n",
       "      <th>demand_instruments16</th>\n",
       "      <th>demand_instruments17</th>\n",
       "      <th>demand_instruments18</th>\n",
       "      <th>demand_instruments19</th>\n",
       "    </tr>\n",
       "  </thead>\n",
       "  <tbody>\n",
       "    <tr>\n",
       "      <th>0</th>\n",
       "      <td>C01Q1</td>\n",
       "      <td>1</td>\n",
       "      <td>1</td>\n",
       "      <td>F1B04</td>\n",
       "      <td>1</td>\n",
       "      <td>4</td>\n",
       "      <td>0.0124</td>\n",
       "      <td>0.0721</td>\n",
       "      <td>2</td>\n",
       "      <td>1</td>\n",
       "      <td>...</td>\n",
       "      <td>2.1164</td>\n",
       "      <td>-0.1547</td>\n",
       "      <td>-0.0058</td>\n",
       "      <td>0.0145</td>\n",
       "      <td>0.1262</td>\n",
       "      <td>0.0673</td>\n",
       "      <td>0.0684</td>\n",
       "      <td>0.0348</td>\n",
       "      <td>0.1263</td>\n",
       "      <td>0.0355</td>\n",
       "    </tr>\n",
       "    <tr>\n",
       "      <th>1</th>\n",
       "      <td>C01Q1</td>\n",
       "      <td>1</td>\n",
       "      <td>1</td>\n",
       "      <td>F1B06</td>\n",
       "      <td>1</td>\n",
       "      <td>6</td>\n",
       "      <td>0.0078</td>\n",
       "      <td>0.1142</td>\n",
       "      <td>18</td>\n",
       "      <td>1</td>\n",
       "      <td>...</td>\n",
       "      <td>-7.3741</td>\n",
       "      <td>-0.5764</td>\n",
       "      <td>0.0130</td>\n",
       "      <td>0.0761</td>\n",
       "      <td>0.0297</td>\n",
       "      <td>0.0879</td>\n",
       "      <td>0.1105</td>\n",
       "      <td>0.0878</td>\n",
       "      <td>0.0499</td>\n",
       "      <td>0.0726</td>\n",
       "    </tr>\n",
       "    <tr>\n",
       "      <th>2</th>\n",
       "      <td>C01Q1</td>\n",
       "      <td>1</td>\n",
       "      <td>1</td>\n",
       "      <td>F1B07</td>\n",
       "      <td>1</td>\n",
       "      <td>7</td>\n",
       "      <td>0.0130</td>\n",
       "      <td>0.1324</td>\n",
       "      <td>4</td>\n",
       "      <td>1</td>\n",
       "      <td>...</td>\n",
       "      <td>2.1879</td>\n",
       "      <td>-0.2073</td>\n",
       "      <td>0.0035</td>\n",
       "      <td>0.0918</td>\n",
       "      <td>0.1638</td>\n",
       "      <td>0.1119</td>\n",
       "      <td>0.1082</td>\n",
       "      <td>0.0864</td>\n",
       "      <td>0.1223</td>\n",
       "      <td>0.1018</td>\n",
       "    </tr>\n",
       "    <tr>\n",
       "      <th>3</th>\n",
       "      <td>C01Q1</td>\n",
       "      <td>1</td>\n",
       "      <td>1</td>\n",
       "      <td>F1B09</td>\n",
       "      <td>1</td>\n",
       "      <td>9</td>\n",
       "      <td>0.0058</td>\n",
       "      <td>0.1303</td>\n",
       "      <td>3</td>\n",
       "      <td>0</td>\n",
       "      <td>...</td>\n",
       "      <td>2.7046</td>\n",
       "      <td>0.0407</td>\n",
       "      <td>-0.0037</td>\n",
       "      <td>0.0947</td>\n",
       "      <td>0.1353</td>\n",
       "      <td>0.0881</td>\n",
       "      <td>0.1018</td>\n",
       "      <td>0.1018</td>\n",
       "      <td>0.1107</td>\n",
       "      <td>0.1043</td>\n",
       "    </tr>\n",
       "    <tr>\n",
       "      <th>4</th>\n",
       "      <td>C01Q1</td>\n",
       "      <td>1</td>\n",
       "      <td>1</td>\n",
       "      <td>F1B11</td>\n",
       "      <td>1</td>\n",
       "      <td>11</td>\n",
       "      <td>0.0179</td>\n",
       "      <td>0.1548</td>\n",
       "      <td>12</td>\n",
       "      <td>0</td>\n",
       "      <td>...</td>\n",
       "      <td>1.2612</td>\n",
       "      <td>0.0348</td>\n",
       "      <td>-0.0006</td>\n",
       "      <td>0.1025</td>\n",
       "      <td>0.1306</td>\n",
       "      <td>0.0848</td>\n",
       "      <td>0.1011</td>\n",
       "      <td>0.1252</td>\n",
       "      <td>0.1335</td>\n",
       "      <td>0.1211</td>\n",
       "    </tr>\n",
       "  </tbody>\n",
       "</table>\n",
       "<p>5 rows × 30 columns</p>\n",
       "</div>"
      ],
      "text/plain": [
       "  market_ids  city_ids  quarter product_ids  firm_ids  brand_ids  shares  \\\n",
       "0      C01Q1         1        1       F1B04         1          4  0.0124   \n",
       "1      C01Q1         1        1       F1B06         1          6  0.0078   \n",
       "2      C01Q1         1        1       F1B07         1          7  0.0130   \n",
       "3      C01Q1         1        1       F1B09         1          9  0.0058   \n",
       "4      C01Q1         1        1       F1B11         1         11  0.0179   \n",
       "\n",
       "   prices  sugar  mushy  ...  demand_instruments10  demand_instruments11  \\\n",
       "0  0.0721      2      1  ...                2.1164               -0.1547   \n",
       "1  0.1142     18      1  ...               -7.3741               -0.5764   \n",
       "2  0.1324      4      1  ...                2.1879               -0.2073   \n",
       "3  0.1303      3      0  ...                2.7046                0.0407   \n",
       "4  0.1548     12      0  ...                1.2612                0.0348   \n",
       "\n",
       "   demand_instruments12  demand_instruments13  demand_instruments14  \\\n",
       "0               -0.0058                0.0145                0.1262   \n",
       "1                0.0130                0.0761                0.0297   \n",
       "2                0.0035                0.0918                0.1638   \n",
       "3               -0.0037                0.0947                0.1353   \n",
       "4               -0.0006                0.1025                0.1306   \n",
       "\n",
       "   demand_instruments15  demand_instruments16  demand_instruments17  \\\n",
       "0                0.0673                0.0684                0.0348   \n",
       "1                0.0879                0.1105                0.0878   \n",
       "2                0.1119                0.1082                0.0864   \n",
       "3                0.0881                0.1018                0.1018   \n",
       "4                0.0848                0.1011                0.1252   \n",
       "\n",
       "   demand_instruments18  demand_instruments19  \n",
       "0                0.1263                0.0355  \n",
       "1                0.0499                0.0726  \n",
       "2                0.1223                0.1018  \n",
       "3                0.1107                0.1043  \n",
       "4                0.1335                0.1211  \n",
       "\n",
       "[5 rows x 30 columns]"
      ]
     },
     "execution_count": 5,
     "metadata": {},
     "output_type": "execute_result"
    }
   ],
   "source": [
    "product_data = pd.read_csv(pyblp.data.NEVO_PRODUCTS_LOCATION)\n",
    "product_data.head()"
   ]
  },
  {
   "cell_type": "code",
   "execution_count": 7,
   "metadata": {},
   "outputs": [
    {
     "data": {
      "text/plain": [
       "Index(['market_ids', 'city_ids', 'quarter', 'product_ids', 'firm_ids',\n",
       "       'brand_ids', 'shares', 'prices', 'sugar', 'mushy',\n",
       "       'demand_instruments0', 'demand_instruments1', 'demand_instruments2',\n",
       "       'demand_instruments3', 'demand_instruments4', 'demand_instruments5',\n",
       "       'demand_instruments6', 'demand_instruments7', 'demand_instruments8',\n",
       "       'demand_instruments9', 'demand_instruments10', 'demand_instruments11',\n",
       "       'demand_instruments12', 'demand_instruments13', 'demand_instruments14',\n",
       "       'demand_instruments15', 'demand_instruments16', 'demand_instruments17',\n",
       "       'demand_instruments18', 'demand_instruments19'],\n",
       "      dtype='object')"
      ]
     },
     "execution_count": 7,
     "metadata": {},
     "output_type": "execute_result"
    }
   ],
   "source": [
    "product_data.columns"
   ]
  },
  {
   "cell_type": "code",
   "execution_count": 15,
   "metadata": {},
   "outputs": [],
   "source": [
    "product_data_2 = product_data[['market_ids', 'city_ids', 'quarter', 'product_ids', 'firm_ids',\n",
    "       'brand_ids', 'shares', 'prices', 'sugar', 'mushy']]"
   ]
  },
  {
   "cell_type": "code",
   "execution_count": 6,
   "metadata": {
    "slideshow": {
     "slide_type": "slide"
    }
   },
   "outputs": [
    {
     "name": "stdout",
     "output_type": "stream",
     "text": [
      "market_ids\n",
      "C01Q1   0.4448\n",
      "C01Q2   0.4973\n",
      "C03Q1   0.4148\n",
      "C03Q2   0.3384\n",
      "C04Q1   0.6686\n",
      "         ...  \n",
      "C61Q2   0.4410\n",
      "C63Q1   0.6354\n",
      "C63Q2   0.6095\n",
      "C65Q1   0.4256\n",
      "C65Q2   0.3575\n",
      "Name: shares, Length: 94, dtype: float64\n"
     ]
    }
   ],
   "source": [
    "print(product_data.groupby('market_ids')['shares'].sum())"
   ]
  },
  {
   "cell_type": "markdown",
   "metadata": {
    "slideshow": {
     "slide_type": "slide"
    }
   },
   "source": [
    "**Arguments**\n",
    "\n",
    "* `market_ids` : PyBLP recognizes whether products are in the same market or not. Denoted by $t \\in T$\n",
    "* `product_ids` : Can take the product-level fixed effects \n",
    "* `shares` : the market shares which must be between zero and one, and within a market ID, $\\sum_j s_{j t} \\leq 1$\n",
    "* `prices` : endogenous variables\n",
    "* `firm_ids` :\n",
    "\n",
    "\n"
   ]
  },
  {
   "cell_type": "markdown",
   "metadata": {
    "slideshow": {
     "slide_type": "slide"
    }
   },
   "source": [
    "#### Application 1: Plain Logit"
   ]
  },
  {
   "cell_type": "markdown",
   "metadata": {
    "slideshow": {
     "slide_type": "fragment"
    }
   },
   "source": [
    "Suppose the indirect utility is given by:\n",
    "\n",
    "\\begin{equation*}\n",
    "U_{i j t}=\\alpha p_{j t}+x_{j t} \\beta^{\\mathrm{ex}}+\\xi_{j t}+\\epsilon_{i j t},\n",
    "\\end{equation*}\n",
    "where $\\epsilon_{ijt}$ is distributed IID with the Type I Extreme Value distribution.\n",
    "\n",
    "Let normalize the mean utility of the outside good to zero so that $U_{i 0 t}=\\epsilon_{i 0 t}$.\n",
    "\n",
    "This gives us aggregate market shares:\n",
    "\n",
    "\\begin{equation*}\n",
    "s_{j t}=\\frac{\\exp \\left(\\alpha p_{j t}+x_{j t} \\beta^{\\mathrm{ex}}+\\xi_{j t}\\right)}{1+\\sum_k \\exp \\left(\\alpha p_{k t}+x_{k t} \\beta^{\\mathrm{ex}}+\\xi_{k t}\\right)} .\n",
    "\\end{equation*}\n",
    "\n",
    "Taking log yiels:\n",
    "\n",
    "\\begin{equation*}\n",
    "\\log s_{j t}=\\alpha p_{j t}+x_{j t} \\beta^{\\text {ex }}+\\xi_{j t}-\\log \\sum_k \\exp \\left(\\alpha p_{k t}+x_{k t} \\beta^{\\text {ex }}+\\xi_{k t}\\right)\n",
    "\\end{equation*}\n",
    "\n",
    "and \n",
    "\n",
    "\\begin{equation*}\n",
    "\\log s_{0 t}=-\\log \\sum_k \\exp \\left(\\alpha p_{k t}+x_{k t} \\beta^{\\mathrm{ex}}+\\xi_{k t}\\right)\n",
    "\\end{equation*}\n",
    "\n",
    "By differencing, we get\n",
    "\n",
    "\\begin{equation*}\n",
    "\\log s_{j t}-\\log s_{0 t}=\\alpha p_{j t}+x_{j t} \\beta^{\\text {ex }}+\\xi_{j t} .\n",
    "\\end{equation*}\n",
    "\n",
    "We can estimate parameters by linear IV-GMM"
   ]
  },
  {
   "cell_type": "code",
   "execution_count": 11,
   "metadata": {
    "slideshow": {
     "slide_type": "slide"
    }
   },
   "outputs": [
    {
     "data": {
      "text/plain": [
       "1 + prices + sugar"
      ]
     },
     "execution_count": 11,
     "metadata": {},
     "output_type": "execute_result"
    }
   ],
   "source": [
    "# Set up the Problem\n",
    "logit_formulation = pyblp.Formulation('prices+sugar')\n",
    "logit_formulation"
   ]
  },
  {
   "cell_type": "code",
   "execution_count": 12,
   "metadata": {
    "slideshow": {
     "slide_type": "fragment"
    }
   },
   "outputs": [
    {
     "data": {
      "text/plain": [
       "Dimensions:\n",
       "==========================\n",
       " T    N     F    K1    MD \n",
       "---  ----  ---  ----  ----\n",
       "94   2256   5    3     22 \n",
       "==========================\n",
       "\n",
       "Formulations:\n",
       "==============================================\n",
       "     Column Indices:         0     1       2  \n",
       "--------------------------  ---  ------  -----\n",
       "X1: Linear Characteristics   1   prices  sugar\n",
       "=============================================="
      ]
     },
     "execution_count": 12,
     "metadata": {},
     "output_type": "execute_result"
    }
   ],
   "source": [
    "problem = pyblp.Problem(logit_formulation, product_data)\n",
    "problem"
   ]
  },
  {
   "cell_type": "code",
   "execution_count": 16,
   "metadata": {},
   "outputs": [
    {
     "data": {
      "text/plain": [
       "Dimensions:\n",
       "==========================\n",
       " T    N     F    K1    MD \n",
       "---  ----  ---  ----  ----\n",
       "94   2256   5    3     2  \n",
       "==========================\n",
       "\n",
       "Formulations:\n",
       "==============================================\n",
       "     Column Indices:         0     1       2  \n",
       "--------------------------  ---  ------  -----\n",
       "X1: Linear Characteristics   1   prices  sugar\n",
       "=============================================="
      ]
     },
     "execution_count": 16,
     "metadata": {},
     "output_type": "execute_result"
    }
   ],
   "source": [
    "problem2 = pyblp.Problem(logit_formulation, product_data_2)\n",
    "problem2"
   ]
  },
  {
   "cell_type": "code",
   "execution_count": 21,
   "metadata": {},
   "outputs": [
    {
     "data": {
      "text/plain": [
       "Problem Results Summary:\n",
       "==============================================================\n",
       "GMM   Objective   Clipped  Weighting Matrix  Covariance Matrix\n",
       "Step    Value     Shares   Condition Number  Condition Number \n",
       "----  ----------  -------  ----------------  -----------------\n",
       " 2    +2.024E+02     0        +3.130E+08        +1.621E+05    \n",
       "==============================================================\n",
       "\n",
       "Cumulative Statistics:\n",
       "========================\n",
       "Computation   Objective \n",
       "   Time      Evaluations\n",
       "-----------  -----------\n",
       " 00:00:00         2     \n",
       "========================\n",
       "\n",
       "Beta Estimates (Robust SEs in Parentheses):\n",
       "========================================\n",
       "     1           prices        sugar    \n",
       "------------  ------------  ------------\n",
       " -2.891E+00    -1.094E+01    +4.830E-02 \n",
       "(+1.059E-01)  (+8.409E-01)  (+4.142E-03)\n",
       "========================================"
      ]
     },
     "execution_count": 21,
     "metadata": {},
     "output_type": "execute_result"
    }
   ],
   "source": [
    "logit_results = problem.solve()\n",
    "logit_results"
   ]
  },
  {
   "cell_type": "code",
   "execution_count": 17,
   "metadata": {
    "slideshow": {
     "slide_type": "slide"
    }
   },
   "outputs": [
    {
     "data": {
      "text/plain": [
       "Problem Results Summary:\n",
       "==============================================================\n",
       "GMM   Objective   Clipped  Weighting Matrix  Covariance Matrix\n",
       "Step    Value     Shares   Condition Number  Condition Number \n",
       "----  ----------  -------  ----------------  -----------------\n",
       " 2    +4.122E-25     0        +2.749E+02        +1.794E+17    \n",
       "==============================================================\n",
       "\n",
       "Cumulative Statistics:\n",
       "========================\n",
       "Computation   Objective \n",
       "   Time      Evaluations\n",
       "-----------  -----------\n",
       " 00:00:00         2     \n",
       "========================\n",
       "\n",
       "Beta Estimates (Robust SEs in Parentheses):\n",
       "========================================\n",
       "     1           prices        sugar    \n",
       "------------  ------------  ------------\n",
       " -4.072E+00    -4.620E-01    +3.245E-02 \n",
       "(+4.662E-02)  (+5.284E-03)  (+4.250E-03)\n",
       "========================================"
      ]
     },
     "execution_count": 17,
     "metadata": {},
     "output_type": "execute_result"
    }
   ],
   "source": [
    "logit_results2 = problem2.solve()\n",
    "logit_results2"
   ]
  },
  {
   "cell_type": "code",
   "execution_count": 19,
   "metadata": {},
   "outputs": [
    {
     "data": {
      "text/plain": [
       "array([[ -2.89146276],\n",
       "       [-10.94488748],\n",
       "       [  0.04829524]])"
      ]
     },
     "execution_count": 19,
     "metadata": {},
     "output_type": "execute_result"
    }
   ],
   "source": [
    "logit_results.beta"
   ]
  },
  {
   "cell_type": "code",
   "execution_count": 20,
   "metadata": {},
   "outputs": [
    {
     "data": {
      "text/plain": [
       "array([[-4.07188517],\n",
       "       [-0.46198215],\n",
       "       [ 0.03244586]])"
      ]
     },
     "execution_count": 20,
     "metadata": {},
     "output_type": "execute_result"
    }
   ],
   "source": [
    "logit_results2.beta"
   ]
  },
  {
   "cell_type": "markdown",
   "metadata": {
    "slideshow": {
     "slide_type": "slide"
    }
   },
   "source": [
    "#### Application 2: Nested Logit\n",
    "\n",
    "We can extend the logit model to allow for correltation within a group $h$ so that\n",
    "\n",
    "\\begin{equation*}\n",
    "U_{i j t}=\\alpha p_{j t}+x_{j t} \\beta^{\\text {ex }}+\\xi_{j t}+\\bar{\\epsilon}_{h(j) t i}+(1-\\rho) \\bar{\\epsilon}_{i j t} .\n",
    "\\end{equation*}\n",
    "\n",
    "We require that $\\epsilon_{j t i}=\\bar{\\epsilon}_{h(j) t i}+(1-\\rho) \\bar{\\epsilon}_{j t i}$ is distributed IID with the Type I Extreme Value distribution.\n",
    "\n",
    "As $\\rho \\rightarrow 1$, all consumers stay within their group. As $\\rho \\rightarrow 0$, this collapses to the IIA logit.\n",
    "\n",
    "Note that if we wanted, we could allow $\\rho$ to differ between groups with $\\rho_{h(j)}$.\n",
    "\n",
    "\n",
    "\\begin{equation*}\n",
    "s_{j t}=\\frac{\\exp \\left[V_{j t} /(1-\\rho)\\right]}{\\exp \\left[V_{h(j) t} /(1-\\rho)\\right]} \\cdot \\frac{\\exp V_{h(j) t}}{1+\\sum_h \\exp V_{h t}}\n",
    "\\end{equation*}\n",
    "\n",
    "where $V_{j t}=\\alpha p_{j t}+x_{j t} \\beta^{e x}+\\xi_{j t}$\n",
    "\n"
   ]
  },
  {
   "cell_type": "markdown",
   "metadata": {
    "slideshow": {
     "slide_type": "fragment"
    }
   },
   "source": [
    "After some work\n",
    "\n",
    "\\begin{equation*}\n",
    "\\log s_{j t}-\\log s_{0 t}=\\alpha p_{j t}+x_{j t} \\beta^{e x}+\\rho \\log s_{j \\mid h(j) t}+\\xi_{j t}\n",
    "\\end{equation*}\n",
    "\n",
    "where $s_{j \\mid h(j) t}=s_{j t} / s_{h(j) t}$ and $s_{h(j) t}$ is the share of group $h$ in market $t$."
   ]
  },
  {
   "cell_type": "markdown",
   "metadata": {},
   "source": [
    "Since $\\ln s_{j \\mid h(j) t}$ would be endogenous, we should write:\n",
    "\n",
    "\\begin{equation*}\n",
    "\\log s_{j t}-\\log s_{0 t}-\\rho \\log s_{j \\mid h(j) t}=\\alpha p_{j t}+x_{j t} \\beta^{\\mathrm{ex}}+\\xi_{j t}\n",
    "\\end{equation*}"
   ]
  },
  {
   "cell_type": "markdown",
   "metadata": {},
   "source": [
    "The extension requires an additional instrument. A common choice is the number of products per nest."
   ]
  },
  {
   "cell_type": "markdown",
   "metadata": {},
   "source": [
    "#### Additional arguments for the nested logit:\n",
    "\n",
    "* `nesting_ids` : group identification\n",
    "* `demand_instruments20` : the additional instrument for the share within the group"
   ]
  },
  {
   "cell_type": "markdown",
   "metadata": {},
   "source": [
    "##### Case 1: Single nest (idential to plain logit)"
   ]
  },
  {
   "cell_type": "code",
   "execution_count": 22,
   "metadata": {},
   "outputs": [],
   "source": [
    "def seeproblem_nl(df):\n",
    "    groups = df.groupby(['market_ids', 'nesting_ids'])\n",
    "    df['demand_instruments20'] = groups['shares'].transform(np.size) #construct IV\n",
    "    nl_formulation = pyblp.Formulation('0 + prices')\n",
    "    problem = pyblp.Problem(nl_formulation, df)\n",
    "    return problem"
   ]
  },
  {
   "cell_type": "code",
   "execution_count": 23,
   "metadata": {},
   "outputs": [],
   "source": [
    "def solve_nl(df):\n",
    "    groups = df.groupby(['market_ids', 'nesting_ids'])\n",
    "    df['demand_instruments20'] = groups['shares'].transform(np.size) #construct IV\n",
    "    nl_formulation = pyblp.Formulation('0 + prices')\n",
    "    problem = pyblp.Problem(nl_formulation, df)\n",
    "    return problem.solve(rho=0.7) #need initial value for rho"
   ]
  },
  {
   "cell_type": "code",
   "execution_count": 24,
   "metadata": {},
   "outputs": [
    {
     "data": {
      "text/plain": [
       "Dimensions:\n",
       "===============================\n",
       " T    N     F    K1    MD    H \n",
       "---  ----  ---  ----  ----  ---\n",
       "94   2256   5    1     21    1 \n",
       "===============================\n",
       "\n",
       "Formulations:\n",
       "==================================\n",
       "     Column Indices:          0   \n",
       "--------------------------  ------\n",
       "X1: Linear Characteristics  prices\n",
       "=================================="
      ]
     },
     "execution_count": 24,
     "metadata": {},
     "output_type": "execute_result"
    }
   ],
   "source": [
    "df1 = product_data.copy()\n",
    "df1['nesting_ids'] = 1\n",
    "seeproblem_nl(df1)"
   ]
  },
  {
   "cell_type": "code",
   "execution_count": 25,
   "metadata": {},
   "outputs": [
    {
     "data": {
      "text/plain": [
       "Problem Results Summary:\n",
       "=========================================================================================\n",
       "GMM   Objective     Projected     Reduced    Clipped  Weighting Matrix  Covariance Matrix\n",
       "Step    Value     Gradient Norm   Hessian    Shares   Condition Number  Condition Number \n",
       "----  ----------  -------------  ----------  -------  ----------------  -----------------\n",
       " 2    +2.033E+02   +1.098E-09    +1.074E+04     0        +2.005E+09        +3.028E+04    \n",
       "=========================================================================================\n",
       "\n",
       "Cumulative Statistics:\n",
       "=================================================\n",
       "Computation  Optimizer  Optimization   Objective \n",
       "   Time      Converged   Iterations   Evaluations\n",
       "-----------  ---------  ------------  -----------\n",
       " 00:00:07       Yes          3             8     \n",
       "=================================================\n",
       "\n",
       "Rho Estimates (Robust SEs in Parentheses):\n",
       "============\n",
       " All Groups \n",
       "------------\n",
       " +9.826E-01 \n",
       "(+1.358E-02)\n",
       "============\n",
       "\n",
       "Beta Estimates (Robust SEs in Parentheses):\n",
       "============\n",
       "   prices   \n",
       "------------\n",
       " -1.173E+00 \n",
       "(+3.971E-01)\n",
       "============"
      ]
     },
     "execution_count": 25,
     "metadata": {},
     "output_type": "execute_result"
    }
   ],
   "source": [
    "df1 = product_data.copy()\n",
    "df1['nesting_ids'] = 1\n",
    "nl_results1 = solve_nl(df1)\n",
    "nl_results1"
   ]
  },
  {
   "cell_type": "code",
   "execution_count": 27,
   "metadata": {},
   "outputs": [
    {
     "data": {
      "text/plain": [
       "array([[-1.1733205]])"
      ]
     },
     "execution_count": 27,
     "metadata": {},
     "output_type": "execute_result"
    }
   ],
   "source": [
    "nl_results1.beta"
   ]
  },
  {
   "cell_type": "markdown",
   "metadata": {},
   "source": [
    "##### Case 2: Grouped by `mushy`"
   ]
  },
  {
   "cell_type": "code",
   "execution_count": 28,
   "metadata": {},
   "outputs": [
    {
     "data": {
      "text/plain": [
       "Problem Results Summary:\n",
       "=========================================================================================\n",
       "GMM   Objective     Projected     Reduced    Clipped  Weighting Matrix  Covariance Matrix\n",
       "Step    Value     Gradient Norm   Hessian    Shares   Condition Number  Condition Number \n",
       "----  ----------  -------------  ----------  -------  ----------------  -----------------\n",
       " 2    +6.903E+02   +1.116E-09    +5.610E+03     0        +5.118E+08        +1.992E+04    \n",
       "=========================================================================================\n",
       "\n",
       "Cumulative Statistics:\n",
       "=================================================\n",
       "Computation  Optimizer  Optimization   Objective \n",
       "   Time      Converged   Iterations   Evaluations\n",
       "-----------  ---------  ------------  -----------\n",
       " 00:00:07       Yes          4             9     \n",
       "=================================================\n",
       "\n",
       "Rho Estimates (Robust SEs in Parentheses):\n",
       "============\n",
       " All Groups \n",
       "------------\n",
       " +8.915E-01 \n",
       "(+1.913E-02)\n",
       "============\n",
       "\n",
       "Beta Estimates (Robust SEs in Parentheses):\n",
       "============\n",
       "   prices   \n",
       "------------\n",
       " -7.838E+00 \n",
       "(+4.815E-01)\n",
       "============"
      ]
     },
     "execution_count": 28,
     "metadata": {},
     "output_type": "execute_result"
    }
   ],
   "source": [
    "df2 = product_data.copy()\n",
    "df2['nesting_ids'] = df2['mushy']\n",
    "nl_results2 = solve_nl(df2)\n",
    "nl_results2"
   ]
  },
  {
   "cell_type": "markdown",
   "metadata": {},
   "source": [
    "The own price elasticity of good $j$ in nest $g$ is:\n",
    "\n",
    "\\begin{equation*}\n",
    "\\eta_{j j}=\\frac{\\alpha}{1-\\sigma} p_j-\\frac{\\alpha}{1-\\sigma} s_{j \\mid h(j) t} p_j+\\alpha\\left(1-s_{h(j)}\\right) s_{j \\mid h(j) t} p_{j}\n",
    "\\end{equation*}"
   ]
  },
  {
   "cell_type": "code",
   "execution_count": 29,
   "metadata": {},
   "outputs": [
    {
     "data": {
      "text/plain": [
       "array([[-67.39338888]])"
      ]
     },
     "execution_count": 29,
     "metadata": {},
     "output_type": "execute_result"
    }
   ],
   "source": [
    "# single nest\n",
    "nl_results1.beta[0] / (1 - nl_results1.rho)"
   ]
  },
  {
   "cell_type": "code",
   "execution_count": null,
   "metadata": {},
   "outputs": [
    {
     "data": {
      "text/plain": [
       "array([[-72.27074638]])"
      ]
     },
     "execution_count": 14,
     "metadata": {},
     "output_type": "execute_result"
    }
   ],
   "source": [
    "# multiple nests\n",
    "nl_results2.beta[0] / (1 - nl_results2.rho)"
   ]
  },
  {
   "cell_type": "markdown",
   "metadata": {},
   "source": [
    "#### Application 3: Random Coefficients "
   ]
  },
  {
   "cell_type": "markdown",
   "metadata": {},
   "source": [
    "\\begin{equation*}\n",
    "u_{i j t}=\\alpha_i p_{j t}+x_{j t} \\beta_i^{\\text {ex }}+\\xi_{j t}+\\epsilon_{i j t}\n",
    "\\end{equation*}\n",
    "\n",
    "The individual market share is:\n",
    "\n",
    "\\begin{equation*}\n",
    "s_{j t}(\\alpha, \\beta, \\theta)=\\int \\frac{\\exp \\left(\\alpha_i p_{j t}+x_{j t} \\beta_i^{\\text {ex }}+\\xi_{j t}\\right)}{1+\\sum_k \\exp \\left(\\alpha_i p_{j t}+x_{k t} \\beta_i^{\\operatorname{ex}}+\\xi_{k t}\\right)} f\\left(\\alpha_i, \\beta_i \\mid \\theta\\right) .\n",
    "\\end{equation*}\n",
    "\n",
    "Rewrite:\n",
    "\n",
    "\\begin{equation*}\n",
    "s_{j t}\\left(\\delta_{j t}, \\theta\\right)=\\int \\frac{\\exp \\left(\\delta_{j t}+\\mu_{i j t}\\right)}{1+\\sum_k \\exp \\left(\\delta_{k t}+\\mu_{i k t}\\right)} f\\left(\\mu_{i t} \\mid \\theta\\right) .\n",
    "\\end{equation*}\n"
   ]
  },
  {
   "cell_type": "markdown",
   "metadata": {},
   "source": [
    "We can perform a linear IV GMM regresion:\n",
    "\\begin{equation*}\n",
    "\\delta_{j t}(\\theta)=\\alpha p_{j t}+x_{j t} \\beta^{e x}+\\xi_{j t}\n",
    "\\end{equation*}\n",
    "\n",
    "The moments are constructed by interacting the predicted residials with instruments to form:\n",
    "\n",
    "\\begin{equation*}\n",
    "\\bar{g}(\\theta)=\\frac{1}{N} \\sum_{j, t} z_{j t}^{\\prime} \\hat{\\xi}_{j t}(\\theta)\n",
    "\\end{equation*}"
   ]
  },
  {
   "cell_type": "markdown",
   "metadata": {},
   "source": [
    "##### Step 1.\n",
    "\n",
    "Load the `product data` which at a minimum consists of `market_ids`, `shares`, `prices`, and at least a single column of demand instruments, `demand_instruments0`."
   ]
  },
  {
   "cell_type": "code",
   "execution_count": 30,
   "metadata": {},
   "outputs": [
    {
     "data": {
      "text/html": [
       "<div>\n",
       "<style scoped>\n",
       "    .dataframe tbody tr th:only-of-type {\n",
       "        vertical-align: middle;\n",
       "    }\n",
       "\n",
       "    .dataframe tbody tr th {\n",
       "        vertical-align: top;\n",
       "    }\n",
       "\n",
       "    .dataframe thead th {\n",
       "        text-align: right;\n",
       "    }\n",
       "</style>\n",
       "<table border=\"1\" class=\"dataframe\">\n",
       "  <thead>\n",
       "    <tr style=\"text-align: right;\">\n",
       "      <th></th>\n",
       "      <th>market_ids</th>\n",
       "      <th>city_ids</th>\n",
       "      <th>quarter</th>\n",
       "      <th>product_ids</th>\n",
       "      <th>firm_ids</th>\n",
       "      <th>brand_ids</th>\n",
       "      <th>shares</th>\n",
       "      <th>prices</th>\n",
       "      <th>sugar</th>\n",
       "      <th>mushy</th>\n",
       "      <th>...</th>\n",
       "      <th>demand_instruments10</th>\n",
       "      <th>demand_instruments11</th>\n",
       "      <th>demand_instruments12</th>\n",
       "      <th>demand_instruments13</th>\n",
       "      <th>demand_instruments14</th>\n",
       "      <th>demand_instruments15</th>\n",
       "      <th>demand_instruments16</th>\n",
       "      <th>demand_instruments17</th>\n",
       "      <th>demand_instruments18</th>\n",
       "      <th>demand_instruments19</th>\n",
       "    </tr>\n",
       "  </thead>\n",
       "  <tbody>\n",
       "    <tr>\n",
       "      <th>0</th>\n",
       "      <td>C01Q1</td>\n",
       "      <td>1</td>\n",
       "      <td>1</td>\n",
       "      <td>F1B04</td>\n",
       "      <td>1</td>\n",
       "      <td>4</td>\n",
       "      <td>0.0124</td>\n",
       "      <td>0.0721</td>\n",
       "      <td>2</td>\n",
       "      <td>1</td>\n",
       "      <td>...</td>\n",
       "      <td>2.1164</td>\n",
       "      <td>-0.1547</td>\n",
       "      <td>-0.0058</td>\n",
       "      <td>0.0145</td>\n",
       "      <td>0.1262</td>\n",
       "      <td>0.0673</td>\n",
       "      <td>0.0684</td>\n",
       "      <td>0.0348</td>\n",
       "      <td>0.1263</td>\n",
       "      <td>0.0355</td>\n",
       "    </tr>\n",
       "    <tr>\n",
       "      <th>1</th>\n",
       "      <td>C01Q1</td>\n",
       "      <td>1</td>\n",
       "      <td>1</td>\n",
       "      <td>F1B06</td>\n",
       "      <td>1</td>\n",
       "      <td>6</td>\n",
       "      <td>0.0078</td>\n",
       "      <td>0.1142</td>\n",
       "      <td>18</td>\n",
       "      <td>1</td>\n",
       "      <td>...</td>\n",
       "      <td>-7.3741</td>\n",
       "      <td>-0.5764</td>\n",
       "      <td>0.0130</td>\n",
       "      <td>0.0761</td>\n",
       "      <td>0.0297</td>\n",
       "      <td>0.0879</td>\n",
       "      <td>0.1105</td>\n",
       "      <td>0.0878</td>\n",
       "      <td>0.0499</td>\n",
       "      <td>0.0726</td>\n",
       "    </tr>\n",
       "    <tr>\n",
       "      <th>2</th>\n",
       "      <td>C01Q1</td>\n",
       "      <td>1</td>\n",
       "      <td>1</td>\n",
       "      <td>F1B07</td>\n",
       "      <td>1</td>\n",
       "      <td>7</td>\n",
       "      <td>0.0130</td>\n",
       "      <td>0.1324</td>\n",
       "      <td>4</td>\n",
       "      <td>1</td>\n",
       "      <td>...</td>\n",
       "      <td>2.1879</td>\n",
       "      <td>-0.2073</td>\n",
       "      <td>0.0035</td>\n",
       "      <td>0.0918</td>\n",
       "      <td>0.1638</td>\n",
       "      <td>0.1119</td>\n",
       "      <td>0.1082</td>\n",
       "      <td>0.0864</td>\n",
       "      <td>0.1223</td>\n",
       "      <td>0.1018</td>\n",
       "    </tr>\n",
       "    <tr>\n",
       "      <th>3</th>\n",
       "      <td>C01Q1</td>\n",
       "      <td>1</td>\n",
       "      <td>1</td>\n",
       "      <td>F1B09</td>\n",
       "      <td>1</td>\n",
       "      <td>9</td>\n",
       "      <td>0.0058</td>\n",
       "      <td>0.1303</td>\n",
       "      <td>3</td>\n",
       "      <td>0</td>\n",
       "      <td>...</td>\n",
       "      <td>2.7046</td>\n",
       "      <td>0.0407</td>\n",
       "      <td>-0.0037</td>\n",
       "      <td>0.0947</td>\n",
       "      <td>0.1353</td>\n",
       "      <td>0.0881</td>\n",
       "      <td>0.1018</td>\n",
       "      <td>0.1018</td>\n",
       "      <td>0.1107</td>\n",
       "      <td>0.1043</td>\n",
       "    </tr>\n",
       "    <tr>\n",
       "      <th>4</th>\n",
       "      <td>C01Q1</td>\n",
       "      <td>1</td>\n",
       "      <td>1</td>\n",
       "      <td>F1B11</td>\n",
       "      <td>1</td>\n",
       "      <td>11</td>\n",
       "      <td>0.0179</td>\n",
       "      <td>0.1548</td>\n",
       "      <td>12</td>\n",
       "      <td>0</td>\n",
       "      <td>...</td>\n",
       "      <td>1.2612</td>\n",
       "      <td>0.0348</td>\n",
       "      <td>-0.0006</td>\n",
       "      <td>0.1025</td>\n",
       "      <td>0.1306</td>\n",
       "      <td>0.0848</td>\n",
       "      <td>0.1011</td>\n",
       "      <td>0.1252</td>\n",
       "      <td>0.1335</td>\n",
       "      <td>0.1211</td>\n",
       "    </tr>\n",
       "  </tbody>\n",
       "</table>\n",
       "<p>5 rows × 30 columns</p>\n",
       "</div>"
      ],
      "text/plain": [
       "  market_ids  city_ids  quarter product_ids  firm_ids  brand_ids  shares  \\\n",
       "0      C01Q1         1        1       F1B04         1          4  0.0124   \n",
       "1      C01Q1         1        1       F1B06         1          6  0.0078   \n",
       "2      C01Q1         1        1       F1B07         1          7  0.0130   \n",
       "3      C01Q1         1        1       F1B09         1          9  0.0058   \n",
       "4      C01Q1         1        1       F1B11         1         11  0.0179   \n",
       "\n",
       "   prices  sugar  mushy  ...  demand_instruments10  demand_instruments11  \\\n",
       "0  0.0721      2      1  ...                2.1164               -0.1547   \n",
       "1  0.1142     18      1  ...               -7.3741               -0.5764   \n",
       "2  0.1324      4      1  ...                2.1879               -0.2073   \n",
       "3  0.1303      3      0  ...                2.7046                0.0407   \n",
       "4  0.1548     12      0  ...                1.2612                0.0348   \n",
       "\n",
       "   demand_instruments12  demand_instruments13  demand_instruments14  \\\n",
       "0               -0.0058                0.0145                0.1262   \n",
       "1                0.0130                0.0761                0.0297   \n",
       "2                0.0035                0.0918                0.1638   \n",
       "3               -0.0037                0.0947                0.1353   \n",
       "4               -0.0006                0.1025                0.1306   \n",
       "\n",
       "   demand_instruments15  demand_instruments16  demand_instruments17  \\\n",
       "0                0.0673                0.0684                0.0348   \n",
       "1                0.0879                0.1105                0.0878   \n",
       "2                0.1119                0.1082                0.0864   \n",
       "3                0.0881                0.1018                0.1018   \n",
       "4                0.0848                0.1011                0.1252   \n",
       "\n",
       "   demand_instruments18  demand_instruments19  \n",
       "0                0.1263                0.0355  \n",
       "1                0.0499                0.0726  \n",
       "2                0.1223                0.1018  \n",
       "3                0.1107                0.1043  \n",
       "4                0.1335                0.1211  \n",
       "\n",
       "[5 rows x 30 columns]"
      ]
     },
     "execution_count": 30,
     "metadata": {},
     "output_type": "execute_result"
    }
   ],
   "source": [
    "product_data = pd.read_csv(pyblp.data.NEVO_PRODUCTS_LOCATION)\n",
    "product_data.head()"
   ]
  },
  {
   "cell_type": "code",
   "execution_count": 31,
   "metadata": {},
   "outputs": [
    {
     "data": {
      "text/plain": [
       "Index(['market_ids', 'city_ids', 'quarter', 'product_ids', 'firm_ids',\n",
       "       'brand_ids', 'shares', 'prices', 'sugar', 'mushy',\n",
       "       'demand_instruments0', 'demand_instruments1', 'demand_instruments2',\n",
       "       'demand_instruments3', 'demand_instruments4', 'demand_instruments5',\n",
       "       'demand_instruments6', 'demand_instruments7', 'demand_instruments8',\n",
       "       'demand_instruments9', 'demand_instruments10', 'demand_instruments11',\n",
       "       'demand_instruments12', 'demand_instruments13', 'demand_instruments14',\n",
       "       'demand_instruments15', 'demand_instruments16', 'demand_instruments17',\n",
       "       'demand_instruments18', 'demand_instruments19'],\n",
       "      dtype='object')"
      ]
     },
     "execution_count": 31,
     "metadata": {},
     "output_type": "execute_result"
    }
   ],
   "source": [
    "product_data.columns"
   ]
  },
  {
   "cell_type": "markdown",
   "metadata": {},
   "source": [
    "##### Step 2. Define a [`Formulation`](https://pyblp.readthedocs.io/en/stable/_api/pyblp.Formulation.html#pyblp.Formulation) for the $X_1$ (**linear**) demand model."
   ]
  },
  {
   "cell_type": "code",
   "execution_count": 32,
   "metadata": {},
   "outputs": [],
   "source": [
    "X1_formulation = pyblp.Formulation('0 + prices', absorb='C(product_ids)')"
   ]
  },
  {
   "cell_type": "markdown",
   "metadata": {},
   "source": [
    "##### Step 3. Define a [`Formulation`](https://pyblp.readthedocs.io/en/stable/_api/pyblp.Formulation.html#pyblp.Formulation) for the $X_2$ (nonlinear) demand model.\n",
    "\n",
    "- Include only the variables over which we want random coefficients.\n",
    "- Do not absorb or include fixed effects.\n",
    "- It will include a random coefficient on the constant (to capture inside good vs. outside good preference) unless you specify not to with a `0` or a `-1`."
   ]
  },
  {
   "cell_type": "code",
   "execution_count": 33,
   "metadata": {},
   "outputs": [],
   "source": [
    "X2_formulation = pyblp.Formulation('1 + prices + sugar + mushy')\n"
   ]
  },
  {
   "cell_type": "code",
   "execution_count": 34,
   "metadata": {},
   "outputs": [
    {
     "data": {
      "text/plain": [
       "(prices + Absorb[C(product_ids)], 1 + prices + sugar + mushy)"
      ]
     },
     "execution_count": 34,
     "metadata": {},
     "output_type": "execute_result"
    }
   ],
   "source": [
    "product_formulations = (X1_formulation, X2_formulation)\n",
    "product_formulations"
   ]
  },
  {
   "cell_type": "markdown",
   "metadata": {},
   "source": [
    "#### Step 4. Define an [`Integration`](https://pyblp.readthedocs.io/en/stable/_api/pyblp.Integration.html#pyblp.Integration) configuration\n",
    "\n",
    "Availabe options:\n",
    "\n",
    "- Monte Carlo integration (pseudo-random draws).\n",
    "- Product rule quadrature.\n",
    "- Sparse grid quadrature."
   ]
  },
  {
   "cell_type": "code",
   "execution_count": 35,
   "metadata": {},
   "outputs": [
    {
     "data": {
      "text/plain": [
       "Configured to construct nodes and weights according to the level-5 Gauss-Hermite product rule with options {}."
      ]
     },
     "execution_count": 35,
     "metadata": {},
     "output_type": "execute_result"
    }
   ],
   "source": [
    "pr_integration = pyblp.Integration('product', size=5)\n",
    "pr_integration"
   ]
  },
  {
   "cell_type": "markdown",
   "metadata": {},
   "source": [
    "##### Step 5. Combine [`Formulation`](https://pyblp.readthedocs.io/en/stable/_api/pyblp.Formulation.html#pyblp.Formulation) classes, `product_data`, and the [`Integration`](https://pyblp.readthedocs.io/en/stable/_api/pyblp.Integration.html#pyblp.Integration) configuration to construct a [`Problem`](https://pyblp.readthedocs.io/en/stable/_api/pyblp.Problem.html#pyblp.Problem).\n"
   ]
  },
  {
   "cell_type": "code",
   "execution_count": 36,
   "metadata": {},
   "outputs": [
    {
     "data": {
      "text/plain": [
       "Dimensions:\n",
       "=============================================\n",
       " T    N     F     I     K1    K2    MD    ED \n",
       "---  ----  ---  -----  ----  ----  ----  ----\n",
       "94   2256   5   58750   1     4     20    1  \n",
       "=============================================\n",
       "\n",
       "Formulations:\n",
       "===========================================================\n",
       "       Column Indices:           0       1       2      3  \n",
       "-----------------------------  ------  ------  -----  -----\n",
       " X1: Linear Characteristics    prices                      \n",
       "X2: Nonlinear Characteristics    1     prices  sugar  mushy\n",
       "==========================================================="
      ]
     },
     "execution_count": 36,
     "metadata": {},
     "output_type": "execute_result"
    }
   ],
   "source": [
    "pr_problem = pyblp.Problem(product_formulations, product_data, integration=pr_integration)\n",
    "pr_problem"
   ]
  },
  {
   "cell_type": "markdown",
   "metadata": {},
   "source": [
    "#### Step 6. Use the [`Problem.solve`](https://pyblp.readthedocs.io/en/stable/_api/pyblp.Problem.solve.html#pyblp.Problem.solve) method to estimate paramters."
   ]
  },
  {
   "cell_type": "code",
   "execution_count": 37,
   "metadata": {},
   "outputs": [
    {
     "data": {
      "text/plain": [
       "Configured to optimize using the BFGS algorithm implemented in SciPy with analytic gradients and options {gtol: +1.000E-04}."
      ]
     },
     "execution_count": 37,
     "metadata": {},
     "output_type": "execute_result"
    }
   ],
   "source": [
    "bfgs = pyblp.Optimization('bfgs', {'gtol': 1e-4})\n",
    "bfgs"
   ]
  },
  {
   "cell_type": "markdown",
   "metadata": {},
   "source": [
    "##### Results"
   ]
  },
  {
   "cell_type": "code",
   "execution_count": 38,
   "metadata": {},
   "outputs": [
    {
     "data": {
      "text/plain": [
       "Problem Results Summary:\n",
       "==========================================================================================================\n",
       "GMM   Objective    Gradient       Hessian         Hessian     Clipped  Weighting Matrix  Covariance Matrix\n",
       "Step    Value        Norm     Min Eigenvalue  Max Eigenvalue  Shares   Condition Number  Condition Number \n",
       "----  ----------  ----------  --------------  --------------  -------  ----------------  -----------------\n",
       " 2    +1.590E+02  +1.099E-05    +1.574E-02      +5.264E+03       0        +5.293E+07        +1.178E+21    \n",
       "==========================================================================================================\n",
       "\n",
       "Cumulative Statistics:\n",
       "===========================================================================\n",
       "Computation  Optimizer  Optimization   Objective   Fixed Point  Contraction\n",
       "   Time      Converged   Iterations   Evaluations  Iterations   Evaluations\n",
       "-----------  ---------  ------------  -----------  -----------  -----------\n",
       " 00:06:03       No           63           118         91541       284202   \n",
       "===========================================================================\n",
       "\n",
       "Nonlinear Coefficient Estimates (Robust SEs in Parentheses):\n",
       "=========================================================================================================================================\n",
       "Sigma:       1           prices        sugar         mushy      |  Sigma Squared:       1           prices        sugar         mushy    \n",
       "------  ------------  ------------  ------------  ------------  |  --------------  ------------  ------------  ------------  ------------\n",
       "  1      -7.401E-01                                             |        1          +5.477E-01    -9.434E+00    +8.273E-02    -1.096E-01 \n",
       "        (+2.293E+00)                                            |                  (+3.395E+00)  (+3.454E+01)  (+1.622E-01)  (+6.401E-01)\n",
       "                                                                |                                                                        \n",
       "prices   +1.275E+01    +6.624E-06                               |      prices       -9.434E+00    +1.625E+02    -1.425E+00    +1.888E+00 \n",
       "        (+7.518E+00)  (+2.683E+03)                              |                  (+3.454E+01)  (+1.916E+02)  (+8.009E-01)  (+8.858E+00)\n",
       "                                                                |                                                                        \n",
       "sugar    -1.118E-01    -7.375E-08    -8.857E-09                 |      sugar        +8.273E-02    -1.425E+00    +1.250E-02    -1.656E-02 \n",
       "        (+1.961E-01)  (+2.180E+05)  (+5.221E+04)                |                  (+1.622E-01)  (+8.009E-01)  (+2.241E-02)  (+1.572E-01)\n",
       "                                                                |                                                                        \n",
       "mushy    +1.481E-01    -4.293E-07    +1.564E-07    +4.674E-08   |      mushy        -1.096E-01    +1.888E+00    -1.656E-02    +2.194E-02 \n",
       "        (+6.841E-01)  (+4.959E+03)  (+6.991E+02)  (+4.299E+02)  |                  (+6.401E-01)  (+8.858E+00)  (+1.572E-01)  (+2.022E-01)\n",
       "=========================================================================================================================================\n",
       "\n",
       "Beta Estimates (Robust SEs in Parentheses):\n",
       "============\n",
       "   prices   \n",
       "------------\n",
       " -3.080E+01 \n",
       "(+3.958E+00)\n",
       "============"
      ]
     },
     "execution_count": 38,
     "metadata": {},
     "output_type": "execute_result"
    }
   ],
   "source": [
    "results1 = pr_problem.solve(sigma=np.ones((4, 4)), optimization=bfgs)\n",
    "results1"
   ]
  },
  {
   "cell_type": "markdown",
   "metadata": {},
   "source": [
    "#### Post-Estimation: Elasticities and Diversion ratio"
   ]
  },
  {
   "cell_type": "markdown",
   "metadata": {},
   "source": [
    "Elasticities:\n",
    "\n",
    "\\begin{equation*}\n",
    "\\varepsilon_{j k}=\\frac{x_k}{s_j} \\frac{\\partial s_j}{\\partial x_k}\n",
    "\\end{equation*}\n",
    "\n",
    "Diversion ratio:\n",
    "\n",
    "\\begin{equation*}\n",
    "\\mathcal{D}_{j k}=-\\frac{\\partial s_k}{\\partial x_j} / \\frac{\\partial s_j}{\\partial x_j}\n",
    "\\end{equation*}\n",
    "\n"
   ]
  },
  {
   "cell_type": "code",
   "execution_count": 39,
   "metadata": {},
   "outputs": [],
   "source": [
    "elasticities = results1.compute_elasticities()\n",
    "diversions = results1.compute_diversion_ratios()"
   ]
  },
  {
   "cell_type": "code",
   "execution_count": 40,
   "metadata": {},
   "outputs": [
    {
     "data": {
      "text/plain": [
       "<matplotlib.colorbar.Colorbar at 0x1f8be6e7bb0>"
      ]
     },
     "execution_count": 40,
     "metadata": {},
     "output_type": "execute_result"
    },
    {
     "data": {
      "image/png": "[encoded data removed]",
      "text/plain": [
       "<Figure size 288x288 with 2 Axes>"
      ]
     },
     "metadata": {
      "needs_background": "light"
     },
     "output_type": "display_data"
    }
   ],
   "source": [
    "single_market = product_data['market_ids'] == 'C01Q1'\n",
    "import matplotlib.pyplot as plt\n",
    "plt.colorbar(plt.matshow(elasticities[single_market]))"
   ]
  },
  {
   "cell_type": "code",
   "execution_count": null,
   "metadata": {},
   "outputs": [
    {
     "data": {
      "text/plain": [
       "<matplotlib.colorbar.Colorbar at 0x1bd898b8f70>"
      ]
     },
     "execution_count": 26,
     "metadata": {},
     "output_type": "execute_result"
    },
    {
     "data": {
      "image/png": "[encoded data removed]",
      "text/plain": [
       "<Figure size 480x480 with 2 Axes>"
      ]
     },
     "metadata": {},
     "output_type": "display_data"
    }
   ],
   "source": [
    "plt.colorbar(plt.matshow(diversions[single_market]))"
   ]
  },
  {
   "cell_type": "markdown",
   "metadata": {},
   "source": [
    "#### Problem Simulation Tutorial"
   ]
  },
  {
   "cell_type": "code",
   "execution_count": null,
   "metadata": {},
   "outputs": [
    {
     "data": {
      "text/plain": [
       "numpy.recarray"
      ]
     },
     "execution_count": 32,
     "metadata": {},
     "output_type": "execute_result"
    }
   ],
   "source": [
    "\n",
    "id_data = pyblp.build_id_data(T=50, J=20, F=10)\n",
    "type(id_data)"
   ]
  },
  {
   "cell_type": "code",
   "execution_count": null,
   "metadata": {},
   "outputs": [
    {
     "data": {
      "text/plain": [
       "Configured to construct nodes and weights according to the level-9 Gauss-Hermite product rule with options {}."
      ]
     },
     "execution_count": 31,
     "metadata": {},
     "output_type": "execute_result"
    }
   ],
   "source": [
    "integration = pyblp.Integration('product', 9)\n",
    "integration"
   ]
  },
  {
   "cell_type": "code",
   "execution_count": null,
   "metadata": {},
   "outputs": [
    {
     "data": {
      "text/plain": [
       "Dimensions:\n",
       "=====================================\n",
       " T    N     F    I    K1    K2    K3 \n",
       "---  ----  ---  ---  ----  ----  ----\n",
       "50   1000  10   450   3     1     2  \n",
       "=====================================\n",
       "\n",
       "Formulations:\n",
       "=================================================\n",
       "        Column Indices:           0     1      2 \n",
       "-------------------------------  ---  ------  ---\n",
       "  X1: Linear Characteristics      1   prices   x \n",
       " X2: Nonlinear Characteristics    x              \n",
       "X3: Linear Cost Characteristics   x     z        \n",
       "=================================================\n",
       "\n",
       "Nonlinear Coefficient True Values:\n",
       "================\n",
       "Sigma:     x    \n",
       "------  --------\n",
       "  x     +1.0E+00\n",
       "================\n",
       "\n",
       "Beta True Values:\n",
       "============================\n",
       "   1       prices      x    \n",
       "--------  --------  --------\n",
       "+1.0E+00  -2.0E+00  +2.0E+00\n",
       "============================\n",
       "\n",
       "Gamma True Values:\n",
       "==================\n",
       "   x         z    \n",
       "--------  --------\n",
       "+1.0E+00  +4.0E+00\n",
       "=================="
      ]
     },
     "execution_count": 33,
     "metadata": {},
     "output_type": "execute_result"
    }
   ],
   "source": [
    "\n",
    "simulation = pyblp.Simulation(\n",
    "   product_formulations=(\n",
    "       pyblp.Formulation('1 + prices + x'),\n",
    "       pyblp.Formulation('0 + x'),\n",
    "       pyblp.Formulation('0 + x + z')\n",
    "   ),\n",
    "   beta=[1, -2, 2],\n",
    "   sigma=1,\n",
    "   gamma=[1, 4],\n",
    "   product_data=id_data,\n",
    "   integration=integration,\n",
    "   seed=0\n",
    ")\n",
    "simulation"
   ]
  },
  {
   "cell_type": "code",
   "execution_count": null,
   "metadata": {},
   "outputs": [
    {
     "data": {
      "text/plain": [
       "Simulation Results Summary:\n",
       "======================================================================================================\n",
       "Computation  Fixed Point  Fixed Point  Contraction  Profit Gradients  Profit Hessians  Profit Hessians\n",
       "   Time       Failures    Iterations   Evaluations      Max Norm      Min Eigenvalue   Max Eigenvalue \n",
       "-----------  -----------  -----------  -----------  ----------------  ---------------  ---------------\n",
       " 00:00:00         0           721          721          +1.3E-13         -8.4E-01         -9.6E-06    \n",
       "======================================================================================================"
      ]
     },
     "execution_count": 35,
     "metadata": {},
     "output_type": "execute_result"
    }
   ],
   "source": [
    "simulation_results = simulation.replace_endogenous()\n",
    "simulation_results"
   ]
  },
  {
   "cell_type": "code",
   "execution_count": null,
   "metadata": {},
   "outputs": [
    {
     "data": {
      "text/plain": [
       "Dimensions:\n",
       "=================================================\n",
       " T    N     F    I    K1    K2    K3    MD    MS \n",
       "---  ----  ---  ---  ----  ----  ----  ----  ----\n",
       "50   1000  10   450   3     1     2     5     6  \n",
       "=================================================\n",
       "\n",
       "Formulations:\n",
       "=================================================\n",
       "        Column Indices:           0     1      2 \n",
       "-------------------------------  ---  ------  ---\n",
       "  X1: Linear Characteristics      1   prices   x \n",
       " X2: Nonlinear Characteristics    x              \n",
       "X3: Linear Cost Characteristics   x     z        \n",
       "================================================="
      ]
     },
     "execution_count": 36,
     "metadata": {},
     "output_type": "execute_result"
    }
   ],
   "source": [
    "problem = simulation_results.to_problem()\n",
    "problem"
   ]
  },
  {
   "cell_type": "code",
   "execution_count": null,
   "metadata": {},
   "outputs": [
    {
     "data": {
      "text/plain": [
       "Problem Results Summary:\n",
       "==============================================================================================================\n",
       "GMM   Objective    Projected    Reduced Hessian  Reduced Hessian  Clipped  Weighting Matrix  Covariance Matrix\n",
       "Step    Value    Gradient Norm  Min Eigenvalue   Max Eigenvalue   Shares   Condition Number  Condition Number \n",
       "----  ---------  -------------  ---------------  ---------------  -------  ----------------  -----------------\n",
       " 2    +6.4E+00     +6.9E-08        +7.2E+00         +3.8E+03         0         +3.7E+04          +1.5E+04     \n",
       "==============================================================================================================\n",
       "\n",
       "Cumulative Statistics:\n",
       "===========================================================================\n",
       "Computation  Optimizer  Optimization   Objective   Fixed Point  Contraction\n",
       "   Time      Converged   Iterations   Evaluations  Iterations   Evaluations\n",
       "-----------  ---------  ------------  -----------  -----------  -----------\n",
       " 00:00:12       Yes          23           30          8294         26315   \n",
       "===========================================================================\n",
       "\n",
       "Nonlinear Coefficient Estimates (Robust SEs in Parentheses):\n",
       "==================\n",
       "Sigma:      x     \n",
       "------  ----------\n",
       "  x      +7.8E-01 \n",
       "        (+5.2E-01)\n",
       "==================\n",
       "\n",
       "Beta Estimates (Robust SEs in Parentheses):\n",
       "==================================\n",
       "    1         prices        x     \n",
       "----------  ----------  ----------\n",
       " +9.6E-01    -2.0E+00    +2.1E+00 \n",
       "(+9.3E-02)  (+2.4E-02)  (+1.4E-01)\n",
       "==================================\n",
       "\n",
       "Gamma Estimates (Robust SEs in Parentheses):\n",
       "======================\n",
       "    x           z     \n",
       "----------  ----------\n",
       " +9.8E-01    +4.0E+00 \n",
       "(+8.7E-02)  (+8.5E-02)\n",
       "======================"
      ]
     },
     "execution_count": 37,
     "metadata": {},
     "output_type": "execute_result"
    }
   ],
   "source": [
    "\n",
    "results = problem.solve(\n",
    "    sigma=0.5 * simulation.sigma,\n",
    "    pi=0.5 * simulation.pi,\n",
    "    beta=[None, 0.5 * simulation.beta[1], None],\n",
    "    optimization=pyblp.Optimization('l-bfgs-b', {'gtol': 1e-5})\n",
    ")\n",
    "results"
   ]
  },
  {
   "cell_type": "code",
   "execution_count": null,
   "metadata": {},
   "outputs": [
    {
     "data": {
      "text/plain": [
       "array([[ 1.        ,  0.96223514],\n",
       "       [-2.        , -2.00792431],\n",
       "       [ 2.        ,  2.10032015]])"
      ]
     },
     "execution_count": 38,
     "metadata": {},
     "output_type": "execute_result"
    }
   ],
   "source": [
    "np.c_[simulation.beta, results.beta]"
   ]
  },
  {
   "cell_type": "code",
   "execution_count": null,
   "metadata": {},
   "outputs": [
    {
     "data": {
      "text/plain": [
       "array([[1.        , 0.97820624],\n",
       "       [4.        , 4.03121577]])"
      ]
     },
     "execution_count": 39,
     "metadata": {},
     "output_type": "execute_result"
    }
   ],
   "source": [
    "np.c_[simulation.gamma, results.gamma]"
   ]
  },
  {
   "cell_type": "code",
   "execution_count": null,
   "metadata": {},
   "outputs": [
    {
     "data": {
      "text/plain": [
       "array([[1.        , 0.78358853]])"
      ]
     },
     "execution_count": 40,
     "metadata": {},
     "output_type": "execute_result"
    }
   ],
   "source": [
    "np.c_[simulation.sigma, results.sigma]"
   ]
  },
  {
   "cell_type": "markdown",
   "metadata": {},
   "source": [
    "#### Applying PyBLP for artificial data"
   ]
  },
  {
   "cell_type": "markdown",
   "metadata": {},
   "source": [
    "T = 50, J= 25, K = 3\n",
    "\n",
    "Let \n",
    "$$\n",
    "\\left[\\begin{array}{c}\n",
    "x_j^1 \\\\\n",
    "x_j^2 \\\\\n",
    "x_j^3\n",
    "\\end{array}\\right] \\sim N\\left(\\left[\\begin{array}{l}\n",
    "0 \\\\\n",
    "0 \\\\\n",
    "0\n",
    "\\end{array}\\right], \\quad\\left[\\begin{array}{ccc}\n",
    "1 & -0.8 & 0.3 \\\\\n",
    "-0.8 & 1 & 0.3 \\\\\n",
    "0.3 & 0.3 & 1\n",
    "\\end{array}\\right]\\right)\n",
    "$$\n",
    "\n",
    "$$\n",
    "p_{t j}=\\left|0.5 \\cdot \\xi_{t j}+e_{t j}+1.1 \\cdot \\sum_{k=1}^3 x_{t j}^k\\right|\n",
    "$$\n",
    "\n",
    "where $e_{tj}$ follows standard normal and $\\xi_{tj}$ follows $N(0,\\eta)$\n",
    "\n",
    "Instruments, $d=1,...,6$\n",
    "\n",
    "$$\n",
    "z_{t j}^d=\\mathcal{U}+\\frac{1}{4}\\left(e_{t j}+1.1 \\cdot \\sum_{k=1}^3 x_{t j}^k\\right)\n",
    "$$\n",
    "\n",
    "where $\\mathcal{U} \\sim U[0,1]$"
   ]
  },
  {
   "cell_type": "markdown",
   "metadata": {},
   "source": [
    "DGP:\n",
    "I: $\\eta=0.1 ; \\quad\\left(\\sigma^0, \\sigma^1, \\sigma^2, \\sigma^3\\right)=(\\sqrt{0.1}, \\sqrt{0.1}, \\sqrt{0.1}, \\sqrt{0.1}) ; \\quad N=100$\n",
    "\n"
   ]
  },
  {
   "cell_type": "code",
   "execution_count": null,
   "metadata": {},
   "outputs": [],
   "source": [
    "T = 50\n",
    "J = 25\n",
    "K = 3\n",
    "\n",
    "def generate_x(K,J):\n",
    "    x_s =np.random.rand(K+1,J)\n",
    "    "
   ]
  },
  {
   "cell_type": "markdown",
   "metadata": {},
   "source": []
  }
 ],
 "metadata": {
  "celltoolbar": "Slideshow",
  "kernelspec": {
   "display_name": "Python 3.9.12 ('base')",
   "language": "python",
   "name": "python3"
  },
  "language_info": {
   "codemirror_mode": {
    "name": "ipython",
    "version": 3
   },
   "file_extension": ".py",
   "mimetype": "text/x-python",
   "name": "python",
   "nbconvert_exporter": "python",
   "pygments_lexer": "ipython3",
   "version": "3.9.12 (main, Apr  4 2022, 05:22:27) [MSC v.1916 64 bit (AMD64)]"
  },
  "vscode": {
   "interpreter": {
    "hash": "5479a34962dd1e5098f0bc8833c6c8e84bf4f90f1c776c719377ecf7fabd33a5"
   }
  }
 },
 "nbformat": 4,
 "nbformat_minor": 2
}
